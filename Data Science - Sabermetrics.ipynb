{
 "metadata": {
  "name": "",
  "signature": "sha256:220936bef1f8c5d8d3b243eb4adc47efaaa158f7edc132c2d659492b8af2755c"
 },
 "nbformat": 3,
 "nbformat_minor": 0,
 "worksheets": [
  {
   "cells": [
    {
     "cell_type": "code",
     "collapsed": false,
     "input": [
      "# special IPython command to prepare the notebook for matplotlib\n",
      "%matplotlib inline \n",
      "\n",
      "import requests \n",
      "import StringIO as sio\n",
      "import zipfile\n",
      "import numpy as np\n",
      "import pandas as pd # pandas\n",
      "import matplotlib.pyplot as plt # module for plotting "
     ],
     "language": "python",
     "metadata": {},
     "outputs": [],
     "prompt_number": 243
    },
    {
     "cell_type": "markdown",
     "metadata": {},
     "source": [
      "###Data Wrangling###"
     ]
    },
    {
     "cell_type": "code",
     "collapsed": false,
     "input": [
      "#Download Data\n",
      "baseballRequest = requests.get('http://seanlahman.com/files/database/lahman-csv_2014-02-14.zip')\n",
      "baseballZipfile = zipfile.ZipFile(sio.StringIO(baseballRequest.content))"
     ],
     "language": "python",
     "metadata": {},
     "outputs": [],
     "prompt_number": 244
    },
    {
     "cell_type": "code",
     "collapsed": false,
     "input": [
      "#Read in the data file stores in the zipfile object\n",
      "with zipfile.ZipFile(sio.StringIO(baseballRequest.content), 'r') as z:\n",
      "    f_teams = z.open('Teams.csv')\n",
      "    teams = pd.read_csv(f_teams, sep = ',')\n",
      "    f_batting = z.open('Batting.csv')\n",
      "    players = pd.read_csv(f_batting, sep = ',')\n",
      "    f_salaries = z.open('Salaries.csv')\n",
      "    salaries = pd.read_csv(f_salaries, sep = ',')\n",
      "    f_fielding = z.open('Fielding.csv')\n",
      "    fielding = pd.read_csv(f_fielding, sep = ',')\n",
      "    f_master = z.open('Master.csv')\n",
      "    master = pd.read_csv(f_master, sep = ',')"
     ],
     "language": "python",
     "metadata": {},
     "outputs": [],
     "prompt_number": 245
    },
    {
     "cell_type": "code",
     "collapsed": false,
     "input": [
      "#print teams.head()\n",
      "#print players.head()\n",
      "#print salaries.head()\n",
      "#print fielding.head()\n",
      "#print master.head()"
     ],
     "language": "python",
     "metadata": {},
     "outputs": [],
     "prompt_number": 246
    },
    {
     "cell_type": "code",
     "collapsed": false,
     "input": [
      "#Calculate median salaries\n",
      "median_salary = salaries[['yearID', 'playerID', 'salary']]\n",
      "median_salary = median_salary.groupby(['playerID'], as_index=False).agg({'salary':[np.median]})\n",
      "\n",
      "#save to csv\n",
      "median_salary.to_csv('median_salary.csv')"
     ],
     "language": "python",
     "metadata": {},
     "outputs": [],
     "prompt_number": 247
    },
    {
     "cell_type": "code",
     "collapsed": false,
     "input": [
      "median_salary.columns = median_salary.columns.get_level_values(0)\n",
      "master_salaries_df = master.merge(median_salary, on = ['playerID'], how = 'inner')\n",
      "\n",
      "#save to csv\n",
      "master_salaries_df.to_csv('master_salaries_df.csv')"
     ],
     "language": "python",
     "metadata": {},
     "outputs": [],
     "prompt_number": 248
    },
    {
     "cell_type": "code",
     "collapsed": false,
     "input": [
      "medianSalaries = master_salaries_df[['playerID', 'nameFirst', 'nameLast', 'salary']]\n",
      "medianSalaries.head()"
     ],
     "language": "python",
     "metadata": {},
     "outputs": [
      {
       "html": [
        "<div style=\"max-height:1000px;max-width:1500px;overflow:auto;\">\n",
        "<table border=\"1\" class=\"dataframe\">\n",
        "  <thead>\n",
        "    <tr style=\"text-align: right;\">\n",
        "      <th></th>\n",
        "      <th>playerID</th>\n",
        "      <th>nameFirst</th>\n",
        "      <th>nameLast</th>\n",
        "      <th>salary</th>\n",
        "    </tr>\n",
        "  </thead>\n",
        "  <tbody>\n",
        "    <tr>\n",
        "      <th>0</th>\n",
        "      <td> aardsda01</td>\n",
        "      <td>    David</td>\n",
        "      <td> Aardsma</td>\n",
        "      <td> 419000</td>\n",
        "    </tr>\n",
        "    <tr>\n",
        "      <th>1</th>\n",
        "      <td>  aasedo01</td>\n",
        "      <td>      Don</td>\n",
        "      <td>    Aase</td>\n",
        "      <td> 612500</td>\n",
        "    </tr>\n",
        "    <tr>\n",
        "      <th>2</th>\n",
        "      <td>  abadan01</td>\n",
        "      <td>     Andy</td>\n",
        "      <td>    Abad</td>\n",
        "      <td> 327000</td>\n",
        "    </tr>\n",
        "    <tr>\n",
        "      <th>3</th>\n",
        "      <td>  abadfe01</td>\n",
        "      <td> Fernando</td>\n",
        "      <td>    Abad</td>\n",
        "      <td> 451500</td>\n",
        "    </tr>\n",
        "    <tr>\n",
        "      <th>4</th>\n",
        "      <td> abbotje01</td>\n",
        "      <td>     Jeff</td>\n",
        "      <td>  Abbott</td>\n",
        "      <td> 255000</td>\n",
        "    </tr>\n",
        "  </tbody>\n",
        "</table>\n",
        "</div>"
       ],
       "metadata": {},
       "output_type": "pyout",
       "prompt_number": 249,
       "text": [
        "    playerID nameFirst nameLast  salary\n",
        "0  aardsda01     David  Aardsma  419000\n",
        "1   aasedo01       Don     Aase  612500\n",
        "2   abadan01      Andy     Abad  327000\n",
        "3   abadfe01  Fernando     Abad  451500\n",
        "4  abbotje01      Jeff   Abbott  255000"
       ]
      }
     ],
     "prompt_number": 249
    },
    {
     "cell_type": "markdown",
     "metadata": {},
     "source": [
      "Consider only team/season combinations where the teams played 162 games and exclude games from pre-1947 (pre-merger period)"
     ]
    },
    {
     "cell_type": "code",
     "collapsed": false,
     "input": [
      "stats = teams[(teams.yearID >= 1947) & (teams.G == 162)]\n",
      "#stats.head()"
     ],
     "language": "python",
     "metadata": {},
     "outputs": [],
     "prompt_number": 250
    },
    {
     "cell_type": "code",
     "collapsed": false,
     "input": [
      "#Calculate per plate appearance for 1B hits, 2B hits, and etc.\n",
      "stats['1B'] = stats.H - stats['2B'] - stats['3B'] - stats['HR']\n",
      "stats['PA'] = stats.AB + stats.BB\n",
      "stats['PPA1B'] = stats['1B']/stats['PA']\n",
      "stats['PPA2B'] = stats['2B']/stats['PA']\n",
      "stats['PPA3B'] = stats['3B']/stats['PA']\n",
      "stats['PPAHR'] = stats['HR']/stats['PA']\n",
      "stats['PPABB'] = stats.BB/stats['PA']"
     ],
     "language": "python",
     "metadata": {},
     "outputs": [],
     "prompt_number": 251
    },
    {
     "cell_type": "code",
     "collapsed": false,
     "input": [
      "stats = stats[['teamID', 'yearID', 'W', 'PPA1B', 'PPA2B', 'PPA3B', 'PPAHR','PPABB']]\n",
      "stats.to_csv('stats.csv')\n",
      "stats.head()"
     ],
     "language": "python",
     "metadata": {},
     "outputs": [
      {
       "html": [
        "<div style=\"max-height:1000px;max-width:1500px;overflow:auto;\">\n",
        "<table border=\"1\" class=\"dataframe\">\n",
        "  <thead>\n",
        "    <tr style=\"text-align: right;\">\n",
        "      <th></th>\n",
        "      <th>teamID</th>\n",
        "      <th>yearID</th>\n",
        "      <th>W</th>\n",
        "      <th>PPA1B</th>\n",
        "      <th>PPA2B</th>\n",
        "      <th>PPA3B</th>\n",
        "      <th>PPAHR</th>\n",
        "      <th>PPABB</th>\n",
        "    </tr>\n",
        "  </thead>\n",
        "  <tbody>\n",
        "    <tr>\n",
        "      <th>1366</th>\n",
        "      <td> LAA</td>\n",
        "      <td> 1961</td>\n",
        "      <td> 70</td>\n",
        "      <td> 0.147748</td>\n",
        "      <td> 0.035708</td>\n",
        "      <td> 0.003604</td>\n",
        "      <td> 0.030958</td>\n",
        "      <td> 0.111548</td>\n",
        "    </tr>\n",
        "    <tr>\n",
        "      <th>1367</th>\n",
        "      <td> KC1</td>\n",
        "      <td> 1961</td>\n",
        "      <td> 61</td>\n",
        "      <td> 0.164751</td>\n",
        "      <td> 0.035982</td>\n",
        "      <td> 0.007829</td>\n",
        "      <td> 0.014993</td>\n",
        "      <td> 0.096618</td>\n",
        "    </tr>\n",
        "    <tr>\n",
        "      <th>1377</th>\n",
        "      <td> NYA</td>\n",
        "      <td> 1962</td>\n",
        "      <td> 96</td>\n",
        "      <td> 0.167148</td>\n",
        "      <td> 0.038536</td>\n",
        "      <td> 0.004656</td>\n",
        "      <td> 0.031952</td>\n",
        "      <td> 0.093770</td>\n",
        "    </tr>\n",
        "    <tr>\n",
        "      <th>1379</th>\n",
        "      <td> LAA</td>\n",
        "      <td> 1962</td>\n",
        "      <td> 86</td>\n",
        "      <td> 0.159482</td>\n",
        "      <td> 0.038027</td>\n",
        "      <td> 0.005737</td>\n",
        "      <td> 0.022455</td>\n",
        "      <td> 0.098672</td>\n",
        "    </tr>\n",
        "    <tr>\n",
        "      <th>1381</th>\n",
        "      <td> CHA</td>\n",
        "      <td> 1962</td>\n",
        "      <td> 85</td>\n",
        "      <td> 0.165797</td>\n",
        "      <td> 0.040756</td>\n",
        "      <td> 0.009129</td>\n",
        "      <td> 0.014998</td>\n",
        "      <td> 0.101076</td>\n",
        "    </tr>\n",
        "  </tbody>\n",
        "</table>\n",
        "</div>"
       ],
       "metadata": {},
       "output_type": "pyout",
       "prompt_number": 252,
       "text": [
        "     teamID  yearID   W     PPA1B     PPA2B     PPA3B     PPAHR     PPABB\n",
        "1366    LAA    1961  70  0.147748  0.035708  0.003604  0.030958  0.111548\n",
        "1367    KC1    1961  61  0.164751  0.035982  0.007829  0.014993  0.096618\n",
        "1377    NYA    1962  96  0.167148  0.038536  0.004656  0.031952  0.093770\n",
        "1379    LAA    1962  86  0.159482  0.038027  0.005737  0.022455  0.098672\n",
        "1381    CHA    1962  85  0.165797  0.040756  0.009129  0.014998  0.101076"
       ]
      }
     ],
     "prompt_number": 252
    },
    {
     "cell_type": "markdown",
     "metadata": {},
     "source": [
      "###Explore time trends between the different PPA rates.###"
     ]
    },
    {
     "cell_type": "code",
     "collapsed": false,
     "input": [
      "timeTrend = stats.groupby('yearID', as_index=False).mean()\n",
      "timeTrend.head()"
     ],
     "language": "python",
     "metadata": {},
     "outputs": [
      {
       "html": [
        "<div style=\"max-height:1000px;max-width:1500px;overflow:auto;\">\n",
        "<table border=\"1\" class=\"dataframe\">\n",
        "  <thead>\n",
        "    <tr style=\"text-align: right;\">\n",
        "      <th></th>\n",
        "      <th>yearID</th>\n",
        "      <th>W</th>\n",
        "      <th>PPA1B</th>\n",
        "      <th>PPA2B</th>\n",
        "      <th>PPA3B</th>\n",
        "      <th>PPAHR</th>\n",
        "      <th>PPABB</th>\n",
        "    </tr>\n",
        "  </thead>\n",
        "  <tbody>\n",
        "    <tr>\n",
        "      <th>0</th>\n",
        "      <td> 1961</td>\n",
        "      <td> 65.500000</td>\n",
        "      <td> 0.156249</td>\n",
        "      <td> 0.035845</td>\n",
        "      <td> 0.005717</td>\n",
        "      <td> 0.022975</td>\n",
        "      <td> 0.104083</td>\n",
        "    </tr>\n",
        "    <tr>\n",
        "      <th>1</th>\n",
        "      <td> 1962</td>\n",
        "      <td> 78.454545</td>\n",
        "      <td> 0.165632</td>\n",
        "      <td> 0.035853</td>\n",
        "      <td> 0.006777</td>\n",
        "      <td> 0.023811</td>\n",
        "      <td> 0.088590</td>\n",
        "    </tr>\n",
        "    <tr>\n",
        "      <th>2</th>\n",
        "      <td> 1963</td>\n",
        "      <td> 78.142857</td>\n",
        "      <td> 0.162467</td>\n",
        "      <td> 0.034020</td>\n",
        "      <td> 0.006896</td>\n",
        "      <td> 0.021254</td>\n",
        "      <td> 0.080336</td>\n",
        "    </tr>\n",
        "    <tr>\n",
        "      <th>3</th>\n",
        "      <td> 1964</td>\n",
        "      <td> 81.727273</td>\n",
        "      <td> 0.167251</td>\n",
        "      <td> 0.036336</td>\n",
        "      <td> 0.006748</td>\n",
        "      <td> 0.021548</td>\n",
        "      <td> 0.079152</td>\n",
        "    </tr>\n",
        "    <tr>\n",
        "      <th>4</th>\n",
        "      <td> 1965</td>\n",
        "      <td> 82.000000</td>\n",
        "      <td> 0.160042</td>\n",
        "      <td> 0.035539</td>\n",
        "      <td> 0.006534</td>\n",
        "      <td> 0.022693</td>\n",
        "      <td> 0.085745</td>\n",
        "    </tr>\n",
        "  </tbody>\n",
        "</table>\n",
        "</div>"
       ],
       "metadata": {},
       "output_type": "pyout",
       "prompt_number": 253,
       "text": [
        "   yearID          W     PPA1B     PPA2B     PPA3B     PPAHR     PPABB\n",
        "0    1961  65.500000  0.156249  0.035845  0.005717  0.022975  0.104083\n",
        "1    1962  78.454545  0.165632  0.035853  0.006777  0.023811  0.088590\n",
        "2    1963  78.142857  0.162467  0.034020  0.006896  0.021254  0.080336\n",
        "3    1964  81.727273  0.167251  0.036336  0.006748  0.021548  0.079152\n",
        "4    1965  82.000000  0.160042  0.035539  0.006534  0.022693  0.085745"
       ]
      }
     ],
     "prompt_number": 253
    },
    {
     "cell_type": "code",
     "collapsed": false,
     "input": [
      "#Plot Time Trends\n",
      "timeTrendplots = timeTrend[['yearID', 'PPA1B', 'PPA2B', 'PPA3B', 'PPAHR', 'PPABB']]\n",
      "timeTrendplots.plot('yearID')\n",
      "plt.xlabel('Year')\n",
      "plt.ylabel('Ratios (%)')\n",
      "plt.title('PPA Ratios for Different Types of Hits')\n",
      "plt.legend(loc='center left', bbox_to_anchor=(1, 0.5))\n",
      "plt.show()"
     ],
     "language": "python",
     "metadata": {},
     "outputs": [
      {
       "metadata": {},
       "output_type": "display_data",
       "png": "[encoded data removed]",
       "text": [
        "<matplotlib.figure.Figure at 0x174f8208>"
       ]
      }
     ],
     "prompt_number": 254
    },
    {
     "cell_type": "markdown",
     "metadata": {},
     "source": [
      "Since 1960s, the PPA ratio of 2nd Base hits and Home Runs have steadily increased over time. Singles have increased and then decreased. While 3 Base hits remaind approximately at the same level."
     ]
    },
    {
     "cell_type": "markdown",
     "metadata": {},
     "source": [
      "###Perform feature standardization by standardizing values of each feature in the data to have zero-mean to prepare the data for statistical models.###"
     ]
    },
    {
     "cell_type": "code",
     "collapsed": false,
     "input": [
      "#Aggregate stats to calculate means\n",
      "aggStats = stats.groupby(['yearID'], as_index=False).mean()"
     ],
     "language": "python",
     "metadata": {},
     "outputs": [],
     "prompt_number": 255
    },
    {
     "cell_type": "code",
     "collapsed": false,
     "input": [
      "aggStats = aggStats[['yearID', 'W', 'PPA1B', 'PPA2B', 'PPA3B', 'PPAHR','PPABB']]\n",
      "aggStats.columns = ['yearID', 'W_mean', 'PPA1B_mean', 'PPA2B_mean', 'PPA3B_mean', 'PPAHR_mean','PPABB_mean']"
     ],
     "language": "python",
     "metadata": {},
     "outputs": [],
     "prompt_number": 256
    },
    {
     "cell_type": "code",
     "collapsed": false,
     "input": [
      "masterStats = stats.merge(aggStats, on = ['yearID'], how = 'inner')"
     ],
     "language": "python",
     "metadata": {},
     "outputs": [],
     "prompt_number": 257
    },
    {
     "cell_type": "code",
     "collapsed": false,
     "input": [
      "masterStats['PPA1B'] = masterStats['PPA1B'] - masterStats['PPA1B_mean']\n",
      "masterStats['PPA2B'] = masterStats['PPA2B'] - masterStats['PPA2B_mean']\n",
      "masterStats['PPA3B'] = masterStats['PPA3B'] - masterStats['PPA3B_mean']\n",
      "masterStats['PPAHR'] = masterStats['PPAHR'] - masterStats['PPAHR_mean']\n",
      "masterStats['PPABB'] = masterStats['PPABB'] - masterStats['PPABB_mean']"
     ],
     "language": "python",
     "metadata": {},
     "outputs": [],
     "prompt_number": 258
    },
    {
     "cell_type": "code",
     "collapsed": false,
     "input": [
      "#To discard means\n",
      "statsNorm = masterStats[stats.columns]"
     ],
     "language": "python",
     "metadata": {},
     "outputs": [],
     "prompt_number": 259
    },
    {
     "cell_type": "code",
     "collapsed": false,
     "input": [
      "stats = statsNorm\n",
      "stats.head()"
     ],
     "language": "python",
     "metadata": {},
     "outputs": [
      {
       "html": [
        "<div style=\"max-height:1000px;max-width:1500px;overflow:auto;\">\n",
        "<table border=\"1\" class=\"dataframe\">\n",
        "  <thead>\n",
        "    <tr style=\"text-align: right;\">\n",
        "      <th></th>\n",
        "      <th>teamID</th>\n",
        "      <th>yearID</th>\n",
        "      <th>W</th>\n",
        "      <th>PPA1B</th>\n",
        "      <th>PPA2B</th>\n",
        "      <th>PPA3B</th>\n",
        "      <th>PPAHR</th>\n",
        "      <th>PPABB</th>\n",
        "    </tr>\n",
        "  </thead>\n",
        "  <tbody>\n",
        "    <tr>\n",
        "      <th>0</th>\n",
        "      <td> LAA</td>\n",
        "      <td> 1961</td>\n",
        "      <td> 70</td>\n",
        "      <td>-0.008502</td>\n",
        "      <td>-0.000137</td>\n",
        "      <td>-0.002113</td>\n",
        "      <td> 0.007983</td>\n",
        "      <td> 0.007465</td>\n",
        "    </tr>\n",
        "    <tr>\n",
        "      <th>1</th>\n",
        "      <td> KC1</td>\n",
        "      <td> 1961</td>\n",
        "      <td> 61</td>\n",
        "      <td> 0.008502</td>\n",
        "      <td> 0.000137</td>\n",
        "      <td> 0.002113</td>\n",
        "      <td>-0.007983</td>\n",
        "      <td>-0.007465</td>\n",
        "    </tr>\n",
        "    <tr>\n",
        "      <th>2</th>\n",
        "      <td> NYA</td>\n",
        "      <td> 1962</td>\n",
        "      <td> 96</td>\n",
        "      <td> 0.001516</td>\n",
        "      <td> 0.002683</td>\n",
        "      <td>-0.002121</td>\n",
        "      <td> 0.008141</td>\n",
        "      <td> 0.005180</td>\n",
        "    </tr>\n",
        "    <tr>\n",
        "      <th>3</th>\n",
        "      <td> LAA</td>\n",
        "      <td> 1962</td>\n",
        "      <td> 86</td>\n",
        "      <td>-0.006150</td>\n",
        "      <td> 0.002174</td>\n",
        "      <td>-0.001040</td>\n",
        "      <td>-0.001356</td>\n",
        "      <td> 0.010082</td>\n",
        "    </tr>\n",
        "    <tr>\n",
        "      <th>4</th>\n",
        "      <td> CHA</td>\n",
        "      <td> 1962</td>\n",
        "      <td> 85</td>\n",
        "      <td> 0.000165</td>\n",
        "      <td> 0.004904</td>\n",
        "      <td> 0.002352</td>\n",
        "      <td>-0.008813</td>\n",
        "      <td> 0.012486</td>\n",
        "    </tr>\n",
        "  </tbody>\n",
        "</table>\n",
        "</div>"
       ],
       "metadata": {},
       "output_type": "pyout",
       "prompt_number": 260,
       "text": [
        "  teamID  yearID   W     PPA1B     PPA2B     PPA3B     PPAHR     PPABB\n",
        "0    LAA    1961  70 -0.008502 -0.000137 -0.002113  0.007983  0.007465\n",
        "1    KC1    1961  61  0.008502  0.000137  0.002113 -0.007983 -0.007465\n",
        "2    NYA    1962  96  0.001516  0.002683 -0.002121  0.008141  0.005180\n",
        "3    LAA    1962  86 -0.006150  0.002174 -0.001040 -0.001356  0.010082\n",
        "4    CHA    1962  85  0.000165  0.004904  0.002352 -0.008813  0.012486"
       ]
      }
     ],
     "prompt_number": 260
    },
    {
     "cell_type": "code",
     "collapsed": false,
     "input": [
      "#Check means are approximately 0\n",
      "print stats['PPA1B'].mean()\n",
      "print stats['PPA2B'].mean()\n",
      "print stats['PPA3B'].mean()\n",
      "print stats['PPAHR'].mean()\n",
      "print stats['PPABB'].mean()"
     ],
     "language": "python",
     "metadata": {},
     "outputs": [
      {
       "output_type": "stream",
       "stream": "stdout",
       "text": [
        "-1.24110297468e-18\n",
        "-1.48086150388e-19\n",
        "1.10623880201e-19\n",
        "-1.0789133814e-18\n",
        "-2.58093004962e-18\n"
       ]
      }
     ],
     "prompt_number": 261
    },
    {
     "cell_type": "markdown",
     "metadata": {},
     "source": [
      "###Use multi-variate linear regression to predict the number of wins from the average adjusted singles, doubles, HRs, and Base on ball rates. This metric is known as the Offensive Predicted Wins (OPW)###"
     ]
    },
    {
     "cell_type": "code",
     "collapsed": false,
     "input": [
      "features = ['PPA1B', 'PPA2B', 'PPA3B', 'PPAHR', 'PPABB']"
     ],
     "language": "python",
     "metadata": {},
     "outputs": [],
     "prompt_number": 262
    },
    {
     "cell_type": "code",
     "collapsed": false,
     "input": [
      "#Iterate through all possible combinations of features to find the best feature\n",
      "import itertools\n",
      "featuresCombinations = [list(combinations) for i in range(1, len(features) + 1) \n",
      "                                     for combinations in itertools.combinations(features, i)]"
     ],
     "language": "python",
     "metadata": {},
     "outputs": [],
     "prompt_number": 263
    },
    {
     "cell_type": "code",
     "collapsed": false,
     "input": [
      "from sklearn import linear_model\n",
      "\n",
      "# Create linear regression object\n",
      "regr = linear_model.LinearRegression()"
     ],
     "language": "python",
     "metadata": {},
     "outputs": [],
     "prompt_number": 264
    },
    {
     "cell_type": "code",
     "collapsed": false,
     "input": [
      "#Run linear regression\n",
      "stats_train = stats[stats['yearID'] < 2002]\n",
      "stats_test = stats[stats['yearID'] >=2002]\n",
      "best_MSE = 1000\n",
      "best_coef = []\n",
      "best_rAdjusted =[]\n",
      "best_regr = linear_model.LinearRegression()\n",
      "best_predictions = []\n",
      "for comb in featuresCombinations:\n",
      "    #print comb\n",
      "    #print len(comb)\n",
      "    linearTrainData = stats_train[comb]\n",
      "    linearTestData = stats_test[comb]\n",
      "    regr.fit(linearTrainData, stats_train[['W']])\n",
      "    rSquare = regr.score(linearTestData, stats_test[['W']])\n",
      "    predictions = regr.predict(linearTestData)\n",
      "    MSE = np.mean((predictions - stats_test[['W']])**2)\n",
      "    #print rSquare\n",
      "    #print regr.coef_\n",
      "    #print regr.intercept_\n",
      "    #print regr.residues_\n",
      "    #print r_adjusted(rSquare, linearTrainData.shape[0], len(comb))\n",
      "    #print MSE[0]\n",
      "    #print \"\\n\"\n",
      "    \n",
      "    #Keep lowest MSE\n",
      "    if MSE[0] < best_MSE:\n",
      "        best_regr = regr\n",
      "        best_MSE = MSE[0]\n",
      "        best_predictions = predictions\n",
      "#plt.figure(figsize=(18,6), dpi=80)   \n",
      "#plt.scatter(xrange(1, linearTestData.shape[0]+1,1), stats_test[['W']])\n",
      "#plt.scatter(xrange(1, linearTestData.shape[0]+1,1), predictions, c='r')\n",
      "#plt.show()"
     ],
     "language": "python",
     "metadata": {},
     "outputs": [],
     "prompt_number": 265
    },
    {
     "cell_type": "code",
     "collapsed": false,
     "input": [
      "print best_regr.coef_\n",
      "print best_regr.intercept_\n",
      "print best_MSE"
     ],
     "language": "python",
     "metadata": {},
     "outputs": [
      {
       "output_type": "stream",
       "stream": "stdout",
       "text": [
        "[[  523.51121499   479.73673295  1138.48602313   851.67216873\n",
        "    511.45942978]]\n",
        "[ 81.06344411]\n",
        "83.8230424898\n"
       ]
      }
     ],
     "prompt_number": 266
    },
    {
     "cell_type": "code",
     "collapsed": false,
     "input": [
      "#Define OPW \n",
      "stats_test['OPW'] = best_predictions"
     ],
     "language": "python",
     "metadata": {},
     "outputs": [],
     "prompt_number": 267
    },
    {
     "cell_type": "code",
     "collapsed": false,
     "input": [
      "#Show OPW added to the stats test data\n",
      "stats_test.head()"
     ],
     "language": "python",
     "metadata": {},
     "outputs": [
      {
       "html": [
        "<div style=\"max-height:1000px;max-width:1500px;overflow:auto;\">\n",
        "<table border=\"1\" class=\"dataframe\">\n",
        "  <thead>\n",
        "    <tr style=\"text-align: right;\">\n",
        "      <th></th>\n",
        "      <th>teamID</th>\n",
        "      <th>yearID</th>\n",
        "      <th>W</th>\n",
        "      <th>PPA1B</th>\n",
        "      <th>PPA2B</th>\n",
        "      <th>PPA3B</th>\n",
        "      <th>PPAHR</th>\n",
        "      <th>PPABB</th>\n",
        "      <th>OPW</th>\n",
        "    </tr>\n",
        "  </thead>\n",
        "  <tbody>\n",
        "    <tr>\n",
        "      <th>662</th>\n",
        "      <td> CHA</td>\n",
        "      <td> 2002</td>\n",
        "      <td> 81</td>\n",
        "      <td>-0.002271</td>\n",
        "      <td> 0.000058</td>\n",
        "      <td>-0.000396</td>\n",
        "      <td> 0.007546</td>\n",
        "      <td> 0.001187</td>\n",
        "      <td> 86.484556</td>\n",
        "    </tr>\n",
        "    <tr>\n",
        "      <th>663</th>\n",
        "      <td> CLE</td>\n",
        "      <td> 2002</td>\n",
        "      <td> 74</td>\n",
        "      <td>-0.010607</td>\n",
        "      <td>-0.004906</td>\n",
        "      <td>-0.000825</td>\n",
        "      <td> 0.003907</td>\n",
        "      <td> 0.000420</td>\n",
        "      <td> 75.760092</td>\n",
        "    </tr>\n",
        "    <tr>\n",
        "      <th>664</th>\n",
        "      <td> KCA</td>\n",
        "      <td> 2002</td>\n",
        "      <td> 62</td>\n",
        "      <td>-0.001002</td>\n",
        "      <td>-0.000618</td>\n",
        "      <td> 0.001748</td>\n",
        "      <td>-0.005175</td>\n",
        "      <td>-0.003960</td>\n",
        "      <td> 75.799878</td>\n",
        "    </tr>\n",
        "    <tr>\n",
        "      <th>665</th>\n",
        "      <td> BOS</td>\n",
        "      <td> 2002</td>\n",
        "      <td> 93</td>\n",
        "      <td> 0.004542</td>\n",
        "      <td> 0.008610</td>\n",
        "      <td> 0.000151</td>\n",
        "      <td> 0.000337</td>\n",
        "      <td>-0.002326</td>\n",
        "      <td> 86.840804</td>\n",
        "    </tr>\n",
        "    <tr>\n",
        "      <th>666</th>\n",
        "      <td> TOR</td>\n",
        "      <td> 2002</td>\n",
        "      <td> 78</td>\n",
        "      <td>-0.005571</td>\n",
        "      <td> 0.002320</td>\n",
        "      <td> 0.001042</td>\n",
        "      <td> 0.002360</td>\n",
        "      <td>-0.004911</td>\n",
        "      <td> 79.944806</td>\n",
        "    </tr>\n",
        "  </tbody>\n",
        "</table>\n",
        "</div>"
       ],
       "metadata": {},
       "output_type": "pyout",
       "prompt_number": 268,
       "text": [
        "    teamID  yearID   W     PPA1B     PPA2B     PPA3B     PPAHR     PPABB  \\\n",
        "662    CHA    2002  81 -0.002271  0.000058 -0.000396  0.007546  0.001187   \n",
        "663    CLE    2002  74 -0.010607 -0.004906 -0.000825  0.003907  0.000420   \n",
        "664    KCA    2002  62 -0.001002 -0.000618  0.001748 -0.005175 -0.003960   \n",
        "665    BOS    2002  93  0.004542  0.008610  0.000151  0.000337 -0.002326   \n",
        "666    TOR    2002  78 -0.005571  0.002320  0.001042  0.002360 -0.004911   \n",
        "\n",
        "           OPW  \n",
        "662  86.484556  \n",
        "663  75.760092  \n",
        "664  75.799878  \n",
        "665  86.840804  \n",
        "666  79.944806  "
       ]
      }
     ],
     "prompt_number": 268
    },
    {
     "cell_type": "markdown",
     "metadata": {},
     "source": [
      "From running through every combination of features, the model with the lowest MSE is the linear model with 5 explanatory variables (PPA 1B, PPA 2B, PPA 3B, PPA HR, and PPA BB).\n",
      "The equation of the model is **Wins = 523.5\\*PPA1B + 479.7\\*PPA2B + 1138.5\\*PPA3B + 851.7\\*PPAHR + 511.5\\*PPABB + 81.1.**\n",
      "Thus, we make the OPW predictions with this model, as seen above."
     ]
    },
    {
     "cell_type": "markdown",
     "metadata": {},
     "source": [
      "###Create a similar OPW metric for all players using the team calibrated multi-variate linear regression model###"
     ]
    },
    {
     "cell_type": "code",
     "collapsed": false,
     "input": [
      "playerstats = players.merge(master, on = ['playerID'], how = 'inner')\n",
      "playerstats['PA'] = playerstats.AB + playerstats.BB\n",
      "#Filter out players < 500 bat appearances\n",
      "playerstats = playerstats[(playerstats.yearID.isin(stats.yearID.values)) & (playerstats.PA >= 500)]"
     ],
     "language": "python",
     "metadata": {},
     "outputs": [],
     "prompt_number": 269
    },
    {
     "cell_type": "code",
     "collapsed": false,
     "input": [
      "#Calculate PPAs\n",
      "playerstats['1B'] = playerstats.H - playerstats['2B'] - playerstats['3B'] - playerstats['HR']\n",
      "playerstats['PPA1B'] = playerstats['1B']/playerstats['PA']\n",
      "playerstats['PPA2B'] = playerstats['2B']/playerstats['PA']\n",
      "playerstats['PPA3B'] = playerstats['3B']/playerstats['PA']\n",
      "playerstats['PPAHR'] = playerstats['HR']/playerstats['PA']\n",
      "playerstats['PPABB'] = playerstats.BB/playerstats['PA']"
     ],
     "language": "python",
     "metadata": {},
     "outputs": [],
     "prompt_number": 270
    },
    {
     "cell_type": "code",
     "collapsed": false,
     "input": [
      "#Calculate means\n",
      "playerstats = playerstats[['playerID', 'yearID', 'PPA1B', 'PPA2B', 'PPA3B', 'PPAHR','PPABB']]\n",
      "playerAggStats = playerstats.groupby(['yearID'], as_index=False).mean()\n",
      "playerAggStats.columns = ['yearID', 'PPA1B_mean', 'PPA2B_mean', 'PPA3B_mean', 'PPAHR_mean','PPABB_mean']"
     ],
     "language": "python",
     "metadata": {},
     "outputs": [],
     "prompt_number": 271
    },
    {
     "cell_type": "code",
     "collapsed": false,
     "input": [
      "#Standardize data with means\n",
      "masterStats = playerstats.merge(playerAggStats, on = ['yearID'], how = 'inner')\n",
      "masterStats['PPA1B'] = masterStats['PPA1B'] - masterStats['PPA1B_mean']\n",
      "masterStats['PPA2B'] = masterStats['PPA2B'] - masterStats['PPA2B_mean']\n",
      "masterStats['PPA3B'] = masterStats['PPA3B'] - masterStats['PPA3B_mean']\n",
      "masterStats['PPAHR'] = masterStats['PPAHR'] - masterStats['PPAHR_mean']\n",
      "masterStats['PPABB'] = masterStats['PPABB'] - masterStats['PPABB_mean']"
     ],
     "language": "python",
     "metadata": {},
     "outputs": [],
     "prompt_number": 272
    },
    {
     "cell_type": "code",
     "collapsed": false,
     "input": [
      "playerStatsNorm = masterStats[playerstats.columns]\n",
      "playerstats = playerStatsNorm"
     ],
     "language": "python",
     "metadata": {},
     "outputs": [],
     "prompt_number": 273
    },
    {
     "cell_type": "code",
     "collapsed": false,
     "input": [
      "#Check means\n",
      "print playerstats['PPA1B'].mean()\n",
      "print playerstats['PPA2B'].mean()\n",
      "print playerstats['PPA3B'].mean()\n",
      "print playerstats['PPAHR'].mean()\n",
      "print playerstats['PPABB'].mean()"
     ],
     "language": "python",
     "metadata": {},
     "outputs": [
      {
       "output_type": "stream",
       "stream": "stdout",
       "text": [
        "1.70112572075e-17\n",
        "7.13096397266e-18\n",
        "2.69391327554e-19\n",
        "2.08549796711e-18\n",
        "6.45842859596e-18\n"
       ]
      }
     ],
     "prompt_number": 274
    },
    {
     "cell_type": "code",
     "collapsed": false,
     "input": [
      "#Show the head\n",
      "playerstats.to_csv('playerstats.csv')\n",
      "playerstats.head()"
     ],
     "language": "python",
     "metadata": {},
     "outputs": [
      {
       "html": [
        "<div style=\"max-height:1000px;max-width:1500px;overflow:auto;\">\n",
        "<table border=\"1\" class=\"dataframe\">\n",
        "  <thead>\n",
        "    <tr style=\"text-align: right;\">\n",
        "      <th></th>\n",
        "      <th>playerID</th>\n",
        "      <th>yearID</th>\n",
        "      <th>PPA1B</th>\n",
        "      <th>PPA2B</th>\n",
        "      <th>PPA3B</th>\n",
        "      <th>PPAHR</th>\n",
        "      <th>PPABB</th>\n",
        "    </tr>\n",
        "  </thead>\n",
        "  <tbody>\n",
        "    <tr>\n",
        "      <th>0</th>\n",
        "      <td> aaronha01</td>\n",
        "      <td> 1961</td>\n",
        "      <td> 0.000150</td>\n",
        "      <td> 0.018502</td>\n",
        "      <td> 0.006785</td>\n",
        "      <td> 0.019989</td>\n",
        "      <td>-0.015259</td>\n",
        "    </tr>\n",
        "    <tr>\n",
        "      <th>1</th>\n",
        "      <td> adcocjo01</td>\n",
        "      <td> 1961</td>\n",
        "      <td>-0.003757</td>\n",
        "      <td>-0.008472</td>\n",
        "      <td>-0.008389</td>\n",
        "      <td> 0.024756</td>\n",
        "      <td>-0.005228</td>\n",
        "    </tr>\n",
        "    <tr>\n",
        "      <th>2</th>\n",
        "      <td> allisbo01</td>\n",
        "      <td> 1961</td>\n",
        "      <td>-0.046891</td>\n",
        "      <td>-0.008812</td>\n",
        "      <td>-0.003837</td>\n",
        "      <td> 0.012401</td>\n",
        "      <td> 0.056061</td>\n",
        "    </tr>\n",
        "    <tr>\n",
        "      <th>3</th>\n",
        "      <td> altmage01</td>\n",
        "      <td> 1961</td>\n",
        "      <td>-0.011549</td>\n",
        "      <td> 0.009501</td>\n",
        "      <td> 0.013116</td>\n",
        "      <td> 0.016782</td>\n",
        "      <td>-0.028552</td>\n",
        "    </tr>\n",
        "    <tr>\n",
        "      <th>4</th>\n",
        "      <td> aparilu01</td>\n",
        "      <td> 1961</td>\n",
        "      <td> 0.032289</td>\n",
        "      <td>-0.004480</td>\n",
        "      <td>-0.002356</td>\n",
        "      <td>-0.022555</td>\n",
        "      <td>-0.042921</td>\n",
        "    </tr>\n",
        "  </tbody>\n",
        "</table>\n",
        "</div>"
       ],
       "metadata": {},
       "output_type": "pyout",
       "prompt_number": 275,
       "text": [
        "    playerID  yearID     PPA1B     PPA2B     PPA3B     PPAHR     PPABB\n",
        "0  aaronha01    1961  0.000150  0.018502  0.006785  0.019989 -0.015259\n",
        "1  adcocjo01    1961 -0.003757 -0.008472 -0.008389  0.024756 -0.005228\n",
        "2  allisbo01    1961 -0.046891 -0.008812 -0.003837  0.012401  0.056061\n",
        "3  altmage01    1961 -0.011549  0.009501  0.013116  0.016782 -0.028552\n",
        "4  aparilu01    1961  0.032289 -0.004480 -0.002356 -0.022555 -0.042921"
       ]
      }
     ],
     "prompt_number": 275
    },
    {
     "cell_type": "markdown",
     "metadata": {},
     "source": [
      "###Track a player's life time statistics. Will use this dataframe to filter contemporary players.###"
     ]
    },
    {
     "cell_type": "code",
     "collapsed": false,
     "input": [
      "#Make DF with career start and career end dates\n",
      "lifeTimeStats = playerstats.groupby(['playerID']).agg({'yearID':[np.min, np.max]})\n",
      "lifeTimeStats\n",
      "lifeTimeStats.columns = lifeTimeStats.columns.get_level_values(1)\n",
      "lifeTimeStats.columns = ['CareerStart', 'CareerEnd']\n",
      "lifeTimeStats.reset_index(level=0, inplace=True)\n",
      "lifeTimeStats.head()"
     ],
     "language": "python",
     "metadata": {},
     "outputs": [
      {
       "html": [
        "<div style=\"max-height:1000px;max-width:1500px;overflow:auto;\">\n",
        "<table border=\"1\" class=\"dataframe\">\n",
        "  <thead>\n",
        "    <tr style=\"text-align: right;\">\n",
        "      <th></th>\n",
        "      <th>playerID</th>\n",
        "      <th>CareerStart</th>\n",
        "      <th>CareerEnd</th>\n",
        "    </tr>\n",
        "  </thead>\n",
        "  <tbody>\n",
        "    <tr>\n",
        "      <th>0</th>\n",
        "      <td> aaronha01</td>\n",
        "      <td> 1961</td>\n",
        "      <td> 1975</td>\n",
        "    </tr>\n",
        "    <tr>\n",
        "      <th>1</th>\n",
        "      <td> abreubo01</td>\n",
        "      <td> 1998</td>\n",
        "      <td> 2011</td>\n",
        "    </tr>\n",
        "    <tr>\n",
        "      <th>2</th>\n",
        "      <td> ackledu01</td>\n",
        "      <td> 2012</td>\n",
        "      <td> 2012</td>\n",
        "    </tr>\n",
        "    <tr>\n",
        "      <th>3</th>\n",
        "      <td> adairje01</td>\n",
        "      <td> 1962</td>\n",
        "      <td> 1965</td>\n",
        "    </tr>\n",
        "    <tr>\n",
        "      <th>4</th>\n",
        "      <td> adamsru01</td>\n",
        "      <td> 2005</td>\n",
        "      <td> 2005</td>\n",
        "    </tr>\n",
        "  </tbody>\n",
        "</table>\n",
        "</div>"
       ],
       "metadata": {},
       "output_type": "pyout",
       "prompt_number": 276,
       "text": [
        "    playerID  CareerStart  CareerEnd\n",
        "0  aaronha01         1961       1975\n",
        "1  abreubo01         1998       2011\n",
        "2  ackledu01         2012       2012\n",
        "3  adairje01         1962       1965\n",
        "4  adamsru01         2005       2005"
       ]
      }
     ],
     "prompt_number": 276
    },
    {
     "cell_type": "code",
     "collapsed": false,
     "input": [
      "#Make DF with baseball stats\n",
      "lifeTimeBaseballStats = playerstats.groupby(['playerID'], as_index=False).mean()"
     ],
     "language": "python",
     "metadata": {},
     "outputs": [],
     "prompt_number": 277
    },
    {
     "cell_type": "code",
     "collapsed": false,
     "input": [
      "#Merge the two DFs\n",
      "playerLS = lifeTimeStats.merge(lifeTimeBaseballStats, on = ['playerID'], how = 'inner')\n",
      "playerLS.drop('yearID', axis=1, inplace=True)\n",
      "playerLS.head()"
     ],
     "language": "python",
     "metadata": {},
     "outputs": [
      {
       "html": [
        "<div style=\"max-height:1000px;max-width:1500px;overflow:auto;\">\n",
        "<table border=\"1\" class=\"dataframe\">\n",
        "  <thead>\n",
        "    <tr style=\"text-align: right;\">\n",
        "      <th></th>\n",
        "      <th>playerID</th>\n",
        "      <th>CareerStart</th>\n",
        "      <th>CareerEnd</th>\n",
        "      <th>PPA1B</th>\n",
        "      <th>PPA2B</th>\n",
        "      <th>PPA3B</th>\n",
        "      <th>PPAHR</th>\n",
        "      <th>PPABB</th>\n",
        "    </tr>\n",
        "  </thead>\n",
        "  <tbody>\n",
        "    <tr>\n",
        "      <th>0</th>\n",
        "      <td> aaronha01</td>\n",
        "      <td> 1961</td>\n",
        "      <td> 1975</td>\n",
        "      <td>-0.011823</td>\n",
        "      <td> 0.007177</td>\n",
        "      <td>-0.002224</td>\n",
        "      <td> 0.029520</td>\n",
        "      <td> 0.018412</td>\n",
        "    </tr>\n",
        "    <tr>\n",
        "      <th>1</th>\n",
        "      <td> abreubo01</td>\n",
        "      <td> 1998</td>\n",
        "      <td> 2011</td>\n",
        "      <td>-0.008230</td>\n",
        "      <td> 0.006438</td>\n",
        "      <td> 0.000983</td>\n",
        "      <td>-0.003154</td>\n",
        "      <td> 0.050532</td>\n",
        "    </tr>\n",
        "    <tr>\n",
        "      <th>2</th>\n",
        "      <td> ackledu01</td>\n",
        "      <td> 2012</td>\n",
        "      <td> 2012</td>\n",
        "      <td>-0.009186</td>\n",
        "      <td>-0.016607</td>\n",
        "      <td>-0.002044</td>\n",
        "      <td>-0.015187</td>\n",
        "      <td> 0.001574</td>\n",
        "    </tr>\n",
        "    <tr>\n",
        "      <th>3</th>\n",
        "      <td> adairje01</td>\n",
        "      <td> 1962</td>\n",
        "      <td> 1965</td>\n",
        "      <td> 0.012235</td>\n",
        "      <td> 0.003353</td>\n",
        "      <td>-0.002105</td>\n",
        "      <td>-0.013016</td>\n",
        "      <td>-0.037399</td>\n",
        "    </tr>\n",
        "    <tr>\n",
        "      <th>4</th>\n",
        "      <td> adamsru01</td>\n",
        "      <td> 2005</td>\n",
        "      <td> 2005</td>\n",
        "      <td>-0.007867</td>\n",
        "      <td>-0.001289</td>\n",
        "      <td> 0.004160</td>\n",
        "      <td>-0.017533</td>\n",
        "      <td> 0.002672</td>\n",
        "    </tr>\n",
        "  </tbody>\n",
        "</table>\n",
        "</div>"
       ],
       "metadata": {},
       "output_type": "pyout",
       "prompt_number": 278,
       "text": [
        "    playerID  CareerStart  CareerEnd     PPA1B     PPA2B     PPA3B     PPAHR  \\\n",
        "0  aaronha01         1961       1975 -0.011823  0.007177 -0.002224  0.029520   \n",
        "1  abreubo01         1998       2011 -0.008230  0.006438  0.000983 -0.003154   \n",
        "2  ackledu01         2012       2012 -0.009186 -0.016607 -0.002044 -0.015187   \n",
        "3  adairje01         1962       1965  0.012235  0.003353 -0.002105 -0.013016   \n",
        "4  adamsru01         2005       2005 -0.007867 -0.001289  0.004160 -0.017533   \n",
        "\n",
        "      PPABB  \n",
        "0  0.018412  \n",
        "1  0.050532  \n",
        "2  0.001574  \n",
        "3 -0.037399  \n",
        "4  0.002672  "
       ]
      }
     ],
     "prompt_number": 278
    },
    {
     "cell_type": "markdown",
     "metadata": {},
     "source": [
      "###Calculate OPW for each player###"
     ]
    },
    {
     "cell_type": "code",
     "collapsed": false,
     "input": [
      "#Use the best regression model to predict OPW for each player\n",
      "OLS_predictions = best_regr.predict(playerLS[['PPA1B', 'PPA2B', 'PPA3B', 'PPAHR', 'PPABB']])\n",
      "playerLS['OPW'] = OLS_predictions"
     ],
     "language": "python",
     "metadata": {},
     "outputs": [],
     "prompt_number": 279
    },
    {
     "cell_type": "code",
     "collapsed": false,
     "input": [
      "#Find the mode position for each player\n",
      "fieldingSubset = fielding[['playerID', 'POS']]\n",
      "fieldingSubset = fieldingSubset.groupby(['playerID']).agg(lambda x:x.value_counts().index[0])\n",
      "fieldingSubset.reset_index(level=0, inplace=True)"
     ],
     "language": "python",
     "metadata": {},
     "outputs": [],
     "prompt_number": 280
    },
    {
     "cell_type": "code",
     "collapsed": false,
     "input": [
      "#Merge median salaries and field positions\n",
      "tempDF = playerLS.merge(medianSalaries, on = ['playerID'], how = 'inner')\n",
      "tempDF = tempDF.merge(fieldingSubset, on = ['playerID'], how = 'inner')\n",
      "playerLS = tempDF\n",
      "playerLS.head()"
     ],
     "language": "python",
     "metadata": {},
     "outputs": [
      {
       "html": [
        "<div style=\"max-height:1000px;max-width:1500px;overflow:auto;\">\n",
        "<table border=\"1\" class=\"dataframe\">\n",
        "  <thead>\n",
        "    <tr style=\"text-align: right;\">\n",
        "      <th></th>\n",
        "      <th>playerID</th>\n",
        "      <th>CareerStart</th>\n",
        "      <th>CareerEnd</th>\n",
        "      <th>PPA1B</th>\n",
        "      <th>PPA2B</th>\n",
        "      <th>PPA3B</th>\n",
        "      <th>PPAHR</th>\n",
        "      <th>PPABB</th>\n",
        "      <th>OPW</th>\n",
        "      <th>nameFirst</th>\n",
        "      <th>nameLast</th>\n",
        "      <th>salary</th>\n",
        "      <th>POS</th>\n",
        "    </tr>\n",
        "  </thead>\n",
        "  <tbody>\n",
        "    <tr>\n",
        "      <th>0</th>\n",
        "      <td> abreubo01</td>\n",
        "      <td> 1998</td>\n",
        "      <td> 2011</td>\n",
        "      <td>-0.008230</td>\n",
        "      <td> 0.006438</td>\n",
        "      <td> 0.000983</td>\n",
        "      <td>-0.003154</td>\n",
        "      <td> 0.050532</td>\n",
        "      <td> 104.121778</td>\n",
        "      <td>   Bobby</td>\n",
        "      <td>   Abreu</td>\n",
        "      <td> 9000000</td>\n",
        "      <td> RF</td>\n",
        "    </tr>\n",
        "    <tr>\n",
        "      <th>1</th>\n",
        "      <td> ackledu01</td>\n",
        "      <td> 2012</td>\n",
        "      <td> 2012</td>\n",
        "      <td>-0.009186</td>\n",
        "      <td>-0.016607</td>\n",
        "      <td>-0.002044</td>\n",
        "      <td>-0.015187</td>\n",
        "      <td> 0.001574</td>\n",
        "      <td>  53.831767</td>\n",
        "      <td>  Dustin</td>\n",
        "      <td>  Ackley</td>\n",
        "      <td> 2400000</td>\n",
        "      <td> 2B</td>\n",
        "    </tr>\n",
        "    <tr>\n",
        "      <th>2</th>\n",
        "      <td> adamsru01</td>\n",
        "      <td> 2005</td>\n",
        "      <td> 2005</td>\n",
        "      <td>-0.007867</td>\n",
        "      <td>-0.001289</td>\n",
        "      <td> 0.004160</td>\n",
        "      <td>-0.017533</td>\n",
        "      <td> 0.002672</td>\n",
        "      <td>  67.496507</td>\n",
        "      <td>    Russ</td>\n",
        "      <td>   Adams</td>\n",
        "      <td>  329500</td>\n",
        "      <td> SS</td>\n",
        "    </tr>\n",
        "    <tr>\n",
        "      <th>3</th>\n",
        "      <td> alfoned01</td>\n",
        "      <td> 1997</td>\n",
        "      <td> 2004</td>\n",
        "      <td> 0.013541</td>\n",
        "      <td>-0.002185</td>\n",
        "      <td>-0.003255</td>\n",
        "      <td>-0.006373</td>\n",
        "      <td> 0.010738</td>\n",
        "      <td>  83.462334</td>\n",
        "      <td> Edgardo</td>\n",
        "      <td> Alfonzo</td>\n",
        "      <td> 4112500</td>\n",
        "      <td> 2B</td>\n",
        "    </tr>\n",
        "    <tr>\n",
        "      <th>4</th>\n",
        "      <td> alicelu01</td>\n",
        "      <td> 2000</td>\n",
        "      <td> 2000</td>\n",
        "      <td> 0.035625</td>\n",
        "      <td>-0.009597</td>\n",
        "      <td> 0.007988</td>\n",
        "      <td>-0.026156</td>\n",
        "      <td>-0.006580</td>\n",
        "      <td>  78.561778</td>\n",
        "      <td>    Luis</td>\n",
        "      <td>  Alicea</td>\n",
        "      <td>  750000</td>\n",
        "      <td> 2B</td>\n",
        "    </tr>\n",
        "  </tbody>\n",
        "</table>\n",
        "</div>"
       ],
       "metadata": {},
       "output_type": "pyout",
       "prompt_number": 281,
       "text": [
        "    playerID  CareerStart  CareerEnd     PPA1B     PPA2B     PPA3B     PPAHR  \\\n",
        "0  abreubo01         1998       2011 -0.008230  0.006438  0.000983 -0.003154   \n",
        "1  ackledu01         2012       2012 -0.009186 -0.016607 -0.002044 -0.015187   \n",
        "2  adamsru01         2005       2005 -0.007867 -0.001289  0.004160 -0.017533   \n",
        "3  alfoned01         1997       2004  0.013541 -0.002185 -0.003255 -0.006373   \n",
        "4  alicelu01         2000       2000  0.035625 -0.009597  0.007988 -0.026156   \n",
        "\n",
        "      PPABB         OPW nameFirst nameLast   salary POS  \n",
        "0  0.050532  104.121778     Bobby    Abreu  9000000  RF  \n",
        "1  0.001574   53.831767    Dustin   Ackley  2400000  2B  \n",
        "2  0.002672   67.496507      Russ    Adams   329500  SS  \n",
        "3  0.010738   83.462334   Edgardo  Alfonzo  4112500  2B  \n",
        "4 -0.006580   78.561778      Luis   Alicea   750000  2B  "
       ]
      }
     ],
     "prompt_number": 281
    },
    {
     "cell_type": "markdown",
     "metadata": {},
     "source": [
      "###Filter players that are active from 2002 and played at least 3 years."
     ]
    },
    {
     "cell_type": "code",
     "collapsed": false,
     "input": [
      "#Calculate Years played\n",
      "playerLS['YearsPlayed'] = playerLS.CareerEnd - playerLS.CareerStart + 1"
     ],
     "language": "python",
     "metadata": {},
     "outputs": [],
     "prompt_number": 282
    },
    {
     "cell_type": "code",
     "collapsed": false,
     "input": [
      "#Subset playeres\n",
      "activePlayers = playerLS[(playerLS['YearsPlayed'] >= 3) & \n",
      "                         (playerLS['CareerStart'] <= 2002) & (playerLS['CareerEnd'] >= 2003)]"
     ],
     "language": "python",
     "metadata": {},
     "outputs": [],
     "prompt_number": 283
    },
    {
     "cell_type": "code",
     "collapsed": false,
     "input": [
      "plt.scatter(activePlayers.salary, activePlayers.OPW, s = 30, cmap=plt.cm.Paired)\n",
      "plt.xlabel('Median Salary ($ million)', fontweight='bold')\n",
      "plt.ylabel('Offensive Predicted Wins (OPW)', fontweight='bold')\n",
      "plt.title('OPW vs. Median Salary', fontweight='bold')\n",
      "plt.show()"
     ],
     "language": "python",
     "metadata": {},
     "outputs": [
      {
       "metadata": {},
       "output_type": "display_data",
       "png": "[encoded data removed]",
       "text": [
        "<matplotlib.figure.Figure at 0x21372fd0>"
       ]
      }
     ],
     "prompt_number": 284
    },
    {
     "cell_type": "markdown",
     "metadata": {},
     "source": [
      "###Pick one players from one of each of these 10 position C, 1B, 2B, 3B, SS, LF, CF, RF, DH, and OF, keeping the total median salary of all 10 players below $20 million###"
     ]
    },
    {
     "cell_type": "code",
     "collapsed": false,
     "input": [
      "#Calculate new metric to optimize picking players\n",
      "#Use OPW/Salary per million\n",
      "activePlayers['OPWSalaryRatio'] = (activePlayers.OPW/activePlayers.salary) *1000000"
     ],
     "language": "python",
     "metadata": {},
     "outputs": [],
     "prompt_number": 285
    },
    {
     "cell_type": "code",
     "collapsed": false,
     "input": [
      "#Sort players\n",
      "sortedActivePlayers = activePlayers.sort(['POS', 'OPWSalaryRatio','OPW'], ascending=[1, 1, 1])"
     ],
     "language": "python",
     "metadata": {},
     "outputs": [],
     "prompt_number": 286
    },
    {
     "cell_type": "code",
     "collapsed": false,
     "input": [
      "#Show the worst and best OPW Salary Ratios\n",
      "sortedActivePlayers.groupby(['POS']).agg({'OPWSalaryRatio':[np.min, np.max]})"
     ],
     "language": "python",
     "metadata": {},
     "outputs": [
      {
       "html": [
        "<div style=\"max-height:1000px;max-width:1500px;overflow:auto;\">\n",
        "<table border=\"1\" class=\"dataframe\">\n",
        "  <thead>\n",
        "    <tr>\n",
        "      <th></th>\n",
        "      <th colspan=\"2\" halign=\"left\">OPWSalaryRatio</th>\n",
        "    </tr>\n",
        "    <tr>\n",
        "      <th></th>\n",
        "      <th>amin</th>\n",
        "      <th>amax</th>\n",
        "    </tr>\n",
        "    <tr>\n",
        "      <th>POS</th>\n",
        "      <th></th>\n",
        "      <th></th>\n",
        "    </tr>\n",
        "  </thead>\n",
        "  <tbody>\n",
        "    <tr>\n",
        "      <th>1B</th>\n",
        "      <td>  8.111439</td>\n",
        "      <td>  92.677123</td>\n",
        "    </tr>\n",
        "    <tr>\n",
        "      <th>2B</th>\n",
        "      <td>  6.890233</td>\n",
        "      <td> 134.079537</td>\n",
        "    </tr>\n",
        "    <tr>\n",
        "      <th>3B</th>\n",
        "      <td>  7.378621</td>\n",
        "      <td> 192.047613</td>\n",
        "    </tr>\n",
        "    <tr>\n",
        "      <th>C</th>\n",
        "      <td> 10.551199</td>\n",
        "      <td>  20.866199</td>\n",
        "    </tr>\n",
        "    <tr>\n",
        "      <th>CF</th>\n",
        "      <td>  6.880741</td>\n",
        "      <td>  28.876902</td>\n",
        "    </tr>\n",
        "    <tr>\n",
        "      <th>DH</th>\n",
        "      <td> 16.488651</td>\n",
        "      <td>  80.366756</td>\n",
        "    </tr>\n",
        "    <tr>\n",
        "      <th>LF</th>\n",
        "      <td>  8.896676</td>\n",
        "      <td>  23.341857</td>\n",
        "    </tr>\n",
        "    <tr>\n",
        "      <th>OF</th>\n",
        "      <td>  9.028574</td>\n",
        "      <td>  49.299855</td>\n",
        "    </tr>\n",
        "    <tr>\n",
        "      <th>RF</th>\n",
        "      <td>  6.780084</td>\n",
        "      <td>  46.660920</td>\n",
        "    </tr>\n",
        "    <tr>\n",
        "      <th>SS</th>\n",
        "      <td>  4.696805</td>\n",
        "      <td>  71.193472</td>\n",
        "    </tr>\n",
        "  </tbody>\n",
        "</table>\n",
        "</div>"
       ],
       "metadata": {},
       "output_type": "pyout",
       "prompt_number": 287,
       "text": [
        "     OPWSalaryRatio            \n",
        "               amin        amax\n",
        "POS                            \n",
        "1B         8.111439   92.677123\n",
        "2B         6.890233  134.079537\n",
        "3B         7.378621  192.047613\n",
        "C         10.551199   20.866199\n",
        "CF         6.880741   28.876902\n",
        "DH        16.488651   80.366756\n",
        "LF         8.896676   23.341857\n",
        "OF         9.028574   49.299855\n",
        "RF         6.780084   46.660920\n",
        "SS         4.696805   71.193472"
       ]
      }
     ],
     "prompt_number": 287
    },
    {
     "cell_type": "code",
     "collapsed": false,
     "input": [
      "#Choose the team with highest OPW/Salary per million ratio for each position\n",
      "highestOPWSalaryRatioTeam = pd.DataFrame(columns=sortedActivePlayers.columns)\n",
      "highestOPWSalaryRatioTeam_index = [536,764,55,545,550,403,445,207,532,750]\n",
      "for i in highestOPWSalaryRatioTeam_index:\n",
      "    highestOPWSalaryRatioTeam.loc[i] = sortedActivePlayers.loc[i,:]\n",
      "#Convert columns to floats\n",
      "highestOPWSalaryRatioTeam[['PPA1B', 'PPA2B', 'PPA3B', 'PPAHR', 'PPABB', 'OPW']] = highestOPWSalaryRatioTeam[['PPA1B', 'PPA2B', 'PPA3B', 'PPAHR', 'PPABB', 'OPW']].astype(float)"
     ],
     "language": "python",
     "metadata": {},
     "outputs": [],
     "prompt_number": 288
    },
    {
     "cell_type": "code",
     "collapsed": false,
     "input": [
      "highestOPWSalaryRatioTeam.describe()"
     ],
     "language": "python",
     "metadata": {},
     "outputs": [
      {
       "html": [
        "<div style=\"max-height:1000px;max-width:1500px;overflow:auto;\">\n",
        "<table border=\"1\" class=\"dataframe\">\n",
        "  <thead>\n",
        "    <tr style=\"text-align: right;\">\n",
        "      <th></th>\n",
        "      <th>PPA1B</th>\n",
        "      <th>PPA2B</th>\n",
        "      <th>PPA3B</th>\n",
        "      <th>PPAHR</th>\n",
        "      <th>PPABB</th>\n",
        "      <th>OPW</th>\n",
        "    </tr>\n",
        "  </thead>\n",
        "  <tbody>\n",
        "    <tr>\n",
        "      <th>count</th>\n",
        "      <td> 10.000000</td>\n",
        "      <td> 10.000000</td>\n",
        "      <td> 10.000000</td>\n",
        "      <td> 10.000000</td>\n",
        "      <td> 10.000000</td>\n",
        "      <td> 10.000000</td>\n",
        "    </tr>\n",
        "    <tr>\n",
        "      <th>mean</th>\n",
        "      <td> -0.002875</td>\n",
        "      <td> -0.002979</td>\n",
        "      <td>  0.001104</td>\n",
        "      <td> -0.006952</td>\n",
        "      <td>  0.004087</td>\n",
        "      <td> 75.555283</td>\n",
        "    </tr>\n",
        "    <tr>\n",
        "      <th>std</th>\n",
        "      <td>  0.022655</td>\n",
        "      <td>  0.007621</td>\n",
        "      <td>  0.003748</td>\n",
        "      <td>  0.010922</td>\n",
        "      <td>  0.026660</td>\n",
        "      <td> 13.458438</td>\n",
        "    </tr>\n",
        "    <tr>\n",
        "      <th>min</th>\n",
        "      <td> -0.039016</td>\n",
        "      <td> -0.018688</td>\n",
        "      <td> -0.003834</td>\n",
        "      <td> -0.021460</td>\n",
        "      <td> -0.033114</td>\n",
        "      <td> 48.945512</td>\n",
        "    </tr>\n",
        "    <tr>\n",
        "      <th>25%</th>\n",
        "      <td> -0.010064</td>\n",
        "      <td> -0.004943</td>\n",
        "      <td> -0.001366</td>\n",
        "      <td> -0.017291</td>\n",
        "      <td> -0.020789</td>\n",
        "      <td> 73.913275</td>\n",
        "    </tr>\n",
        "    <tr>\n",
        "      <th>50%</th>\n",
        "      <td> -0.002869</td>\n",
        "      <td> -0.003496</td>\n",
        "      <td>  0.000924</td>\n",
        "      <td> -0.005735</td>\n",
        "      <td>  0.010171</td>\n",
        "      <td> 76.249643</td>\n",
        "    </tr>\n",
        "    <tr>\n",
        "      <th>75%</th>\n",
        "      <td>  0.008601</td>\n",
        "      <td>  0.002577</td>\n",
        "      <td>  0.002256</td>\n",
        "      <td>  0.003158</td>\n",
        "      <td>  0.019346</td>\n",
        "      <td> 84.923005</td>\n",
        "    </tr>\n",
        "    <tr>\n",
        "      <th>max</th>\n",
        "      <td>  0.032799</td>\n",
        "      <td>  0.006571</td>\n",
        "      <td>  0.008352</td>\n",
        "      <td>  0.005503</td>\n",
        "      <td>  0.046596</td>\n",
        "      <td> 91.702735</td>\n",
        "    </tr>\n",
        "  </tbody>\n",
        "</table>\n",
        "</div>"
       ],
       "metadata": {},
       "output_type": "pyout",
       "prompt_number": 289,
       "text": [
        "           PPA1B      PPA2B      PPA3B      PPAHR      PPABB        OPW\n",
        "count  10.000000  10.000000  10.000000  10.000000  10.000000  10.000000\n",
        "mean   -0.002875  -0.002979   0.001104  -0.006952   0.004087  75.555283\n",
        "std     0.022655   0.007621   0.003748   0.010922   0.026660  13.458438\n",
        "min    -0.039016  -0.018688  -0.003834  -0.021460  -0.033114  48.945512\n",
        "25%    -0.010064  -0.004943  -0.001366  -0.017291  -0.020789  73.913275\n",
        "50%    -0.002869  -0.003496   0.000924  -0.005735   0.010171  76.249643\n",
        "75%     0.008601   0.002577   0.002256   0.003158   0.019346  84.923005\n",
        "max     0.032799   0.006571   0.008352   0.005503   0.046596  91.702735"
       ]
      }
     ],
     "prompt_number": 289
    },
    {
     "cell_type": "code",
     "collapsed": false,
     "input": [
      "print \"Total salary: $%d\" %(highestOPWSalaryRatioTeam['salary'].sum())\n",
      "print \"Predicted average OPW: %.2f wins\" %(highestOPWSalaryRatioTeam['OPW'].mean())\n",
      "print \"Predicted average OPWSalary ratio: %.2f wins\" %(highestOPWSalaryRatioTeam['OPWSalaryRatio'].mean())"
     ],
     "language": "python",
     "metadata": {},
     "outputs": [
      {
       "output_type": "stream",
       "stream": "stdout",
       "text": [
        "Total salary: $16822499\n",
        "Predicted average OPW: 75.56 wins\n",
        "Predicted average OPWSalary ratio: 73.94 wins\n"
       ]
      }
     ],
     "prompt_number": 290
    },
    {
     "cell_type": "markdown",
     "metadata": {},
     "source": [
      "##FINAL TEAM###"
     ]
    },
    {
     "cell_type": "code",
     "collapsed": false,
     "input": [
      "#Hand picked by choosing the highest OPW/Salary per million ratio\n",
      "#Then choosing lest efficient players with higher OPW until $20 million salary is met\n",
      "allStarTeam = pd.DataFrame(columns=sortedActivePlayers.columns)\n",
      "allStarTeam_index = [659,914,55,545,550,851,445,354,532,21]\n",
      "for i in allStarTeam_index:\n",
      "    allStarTeam.loc[i] = sortedActivePlayers.loc[i,:]"
     ],
     "language": "python",
     "metadata": {},
     "outputs": [],
     "prompt_number": 291
    },
    {
     "cell_type": "code",
     "collapsed": false,
     "input": [
      "allStarTeam"
     ],
     "language": "python",
     "metadata": {},
     "outputs": [
      {
       "html": [
        "<div style=\"max-height:1000px;max-width:1500px;overflow:auto;\">\n",
        "<table border=\"1\" class=\"dataframe\">\n",
        "  <thead>\n",
        "    <tr style=\"text-align: right;\">\n",
        "      <th></th>\n",
        "      <th>playerID</th>\n",
        "      <th>CareerStart</th>\n",
        "      <th>CareerEnd</th>\n",
        "      <th>PPA1B</th>\n",
        "      <th>PPA2B</th>\n",
        "      <th>PPA3B</th>\n",
        "      <th>PPAHR</th>\n",
        "      <th>PPABB</th>\n",
        "      <th>OPW</th>\n",
        "      <th>nameFirst</th>\n",
        "      <th>nameLast</th>\n",
        "      <th>salary</th>\n",
        "      <th>POS</th>\n",
        "      <th>YearsPlayed</th>\n",
        "      <th>OPWSalaryRatio</th>\n",
        "    </tr>\n",
        "  </thead>\n",
        "  <tbody>\n",
        "    <tr>\n",
        "      <th>659</th>\n",
        "      <td> nevinph01</td>\n",
        "      <td> 2000</td>\n",
        "      <td> 2004</td>\n",
        "      <td>-0.004921334</td>\n",
        "      <td> 0.001265132</td>\n",
        "      <td> -0.004186793</td>\n",
        "      <td>   0.01811185</td>\n",
        "      <td> 0.007459192</td>\n",
        "      <td> 93.56783</td>\n",
        "      <td>  Phil</td>\n",
        "      <td>      Nevin</td>\n",
        "      <td> 1250000</td>\n",
        "      <td> 1B</td>\n",
        "      <td>  5</td>\n",
        "      <td> 74.85426</td>\n",
        "    </tr>\n",
        "    <tr>\n",
        "      <th>914</th>\n",
        "      <td> walketo04</td>\n",
        "      <td> 1998</td>\n",
        "      <td> 2003</td>\n",
        "      <td>  0.01823098</td>\n",
        "      <td>  0.01319473</td>\n",
        "      <td> 0.0003989391</td>\n",
        "      <td>  -0.01730891</td>\n",
        "      <td> -0.01746469</td>\n",
        "      <td> 73.71776</td>\n",
        "      <td>  Todd</td>\n",
        "      <td>     Walker</td>\n",
        "      <td>  750000</td>\n",
        "      <td> 2B</td>\n",
        "      <td>  6</td>\n",
        "      <td> 98.29034</td>\n",
        "    </tr>\n",
        "    <tr>\n",
        "      <th>55 </th>\n",
        "      <td> bellhma01</td>\n",
        "      <td> 2002</td>\n",
        "      <td> 2004</td>\n",
        "      <td> -0.03901558</td>\n",
        "      <td> 0.002194913</td>\n",
        "      <td>  0.001311091</td>\n",
        "      <td>  0.005503275</td>\n",
        "      <td>   0.0465956</td>\n",
        "      <td> 91.70274</td>\n",
        "      <td>  Mark</td>\n",
        "      <td>   Bellhorn</td>\n",
        "      <td>  477500</td>\n",
        "      <td> 3B</td>\n",
        "      <td>  3</td>\n",
        "      <td> 192.0476</td>\n",
        "    </tr>\n",
        "    <tr>\n",
        "      <th>545</th>\n",
        "      <td> liebemi01</td>\n",
        "      <td> 1999</td>\n",
        "      <td> 2004</td>\n",
        "      <td> 0.009309796</td>\n",
        "      <td> 0.006571348</td>\n",
        "      <td>   -0.0029591</td>\n",
        "      <td>  0.001011806</td>\n",
        "      <td> -0.02479467</td>\n",
        "      <td> 73.90111</td>\n",
        "      <td>  Mike</td>\n",
        "      <td> Lieberthal</td>\n",
        "      <td> 3541666</td>\n",
        "      <td>  C</td>\n",
        "      <td>  6</td>\n",
        "      <td>  20.8662</td>\n",
        "    </tr>\n",
        "    <tr>\n",
        "      <th>550</th>\n",
        "      <td> loftoke01</td>\n",
        "      <td> 1992</td>\n",
        "      <td> 2006</td>\n",
        "      <td>  0.03279859</td>\n",
        "      <td> -0.01094455</td>\n",
        "      <td>  0.005536841</td>\n",
        "      <td>   -0.0190708</td>\n",
        "      <td>  0.01265688</td>\n",
        "      <td>  89.5184</td>\n",
        "      <td> Kenny</td>\n",
        "      <td>     Lofton</td>\n",
        "      <td> 3100000</td>\n",
        "      <td> CF</td>\n",
        "      <td> 15</td>\n",
        "      <td>  28.8769</td>\n",
        "    </tr>\n",
        "    <tr>\n",
        "      <th>851</th>\n",
        "      <td> sweenmi01</td>\n",
        "      <td> 1999</td>\n",
        "      <td> 2005</td>\n",
        "      <td>  0.01762731</td>\n",
        "      <td>  0.01349951</td>\n",
        "      <td>   -0.0042989</td>\n",
        "      <td>  0.007064005</td>\n",
        "      <td>-0.004878472</td>\n",
        "      <td> 95.39459</td>\n",
        "      <td>  Mike</td>\n",
        "      <td>    Sweeney</td>\n",
        "      <td> 1450000</td>\n",
        "      <td> DH</td>\n",
        "      <td>  7</td>\n",
        "      <td> 65.78937</td>\n",
        "    </tr>\n",
        "    <tr>\n",
        "      <th>445</th>\n",
        "      <td> ibanera01</td>\n",
        "      <td> 2002</td>\n",
        "      <td> 2011</td>\n",
        "      <td>-0.003645919</td>\n",
        "      <td> 0.004471097</td>\n",
        "      <td> 0.0005378312</td>\n",
        "      <td>  0.003873719</td>\n",
        "      <td>-0.008773423</td>\n",
        "      <td> 80.72392</td>\n",
        "      <td>  Raul</td>\n",
        "      <td>     Ibanez</td>\n",
        "      <td> 3458333</td>\n",
        "      <td> LF</td>\n",
        "      <td> 10</td>\n",
        "      <td> 23.34186</td>\n",
        "    </tr>\n",
        "    <tr>\n",
        "      <th>354</th>\n",
        "      <td> gonzalu01</td>\n",
        "      <td> 1991</td>\n",
        "      <td> 2007</td>\n",
        "      <td> -0.01060999</td>\n",
        "      <td> 0.006269523</td>\n",
        "      <td> 0.0005400304</td>\n",
        "      <td>  0.002914281</td>\n",
        "      <td>  0.01449695</td>\n",
        "      <td> 89.02814</td>\n",
        "      <td>  Luis</td>\n",
        "      <td>   Gonzalez</td>\n",
        "      <td> 2025000</td>\n",
        "      <td> OF</td>\n",
        "      <td> 17</td>\n",
        "      <td> 43.96452</td>\n",
        "    </tr>\n",
        "    <tr>\n",
        "      <th>532</th>\n",
        "      <td> lawtoma02</td>\n",
        "      <td> 1997</td>\n",
        "      <td> 2004</td>\n",
        "      <td> -0.01118028</td>\n",
        "      <td>  0.00270448</td>\n",
        "      <td>-0.0007252226</td>\n",
        "      <td> -0.007091588</td>\n",
        "      <td>  0.03261292</td>\n",
        "      <td>  86.3227</td>\n",
        "      <td>  Matt</td>\n",
        "      <td>     Lawton</td>\n",
        "      <td> 1850000</td>\n",
        "      <td> RF</td>\n",
        "      <td>  8</td>\n",
        "      <td> 46.66092</td>\n",
        "    </tr>\n",
        "    <tr>\n",
        "      <th>21 </th>\n",
        "      <td> aurilri01</td>\n",
        "      <td> 1999</td>\n",
        "      <td> 2003</td>\n",
        "      <td> 0.009741441</td>\n",
        "      <td>-0.002436382</td>\n",
        "      <td> -0.001821576</td>\n",
        "      <td> 4.833235e-05</td>\n",
        "      <td> -0.02648313</td>\n",
        "      <td> 69.41665</td>\n",
        "      <td>  Rich</td>\n",
        "      <td>    Aurilia</td>\n",
        "      <td> 1300000</td>\n",
        "      <td> SS</td>\n",
        "      <td>  5</td>\n",
        "      <td> 53.39742</td>\n",
        "    </tr>\n",
        "  </tbody>\n",
        "</table>\n",
        "</div>"
       ],
       "metadata": {},
       "output_type": "pyout",
       "prompt_number": 292,
       "text": [
        "      playerID CareerStart CareerEnd        PPA1B        PPA2B         PPA3B  \\\n",
        "659  nevinph01        2000      2004 -0.004921334  0.001265132  -0.004186793   \n",
        "914  walketo04        1998      2003   0.01823098   0.01319473  0.0003989391   \n",
        "55   bellhma01        2002      2004  -0.03901558  0.002194913   0.001311091   \n",
        "545  liebemi01        1999      2004  0.009309796  0.006571348    -0.0029591   \n",
        "550  loftoke01        1992      2006   0.03279859  -0.01094455   0.005536841   \n",
        "851  sweenmi01        1999      2005   0.01762731   0.01349951    -0.0042989   \n",
        "445  ibanera01        2002      2011 -0.003645919  0.004471097  0.0005378312   \n",
        "354  gonzalu01        1991      2007  -0.01060999  0.006269523  0.0005400304   \n",
        "532  lawtoma02        1997      2004  -0.01118028   0.00270448 -0.0007252226   \n",
        "21   aurilri01        1999      2003  0.009741441 -0.002436382  -0.001821576   \n",
        "\n",
        "            PPAHR        PPABB       OPW nameFirst    nameLast   salary POS  \\\n",
        "659    0.01811185  0.007459192  93.56783      Phil       Nevin  1250000  1B   \n",
        "914   -0.01730891  -0.01746469  73.71776      Todd      Walker   750000  2B   \n",
        "55    0.005503275    0.0465956  91.70274      Mark    Bellhorn   477500  3B   \n",
        "545   0.001011806  -0.02479467  73.90111      Mike  Lieberthal  3541666   C   \n",
        "550    -0.0190708   0.01265688   89.5184     Kenny      Lofton  3100000  CF   \n",
        "851   0.007064005 -0.004878472  95.39459      Mike     Sweeney  1450000  DH   \n",
        "445   0.003873719 -0.008773423  80.72392      Raul      Ibanez  3458333  LF   \n",
        "354   0.002914281   0.01449695  89.02814      Luis    Gonzalez  2025000  OF   \n",
        "532  -0.007091588   0.03261292   86.3227      Matt      Lawton  1850000  RF   \n",
        "21   4.833235e-05  -0.02648313  69.41665      Rich     Aurilia  1300000  SS   \n",
        "\n",
        "    YearsPlayed OPWSalaryRatio  \n",
        "659           5       74.85426  \n",
        "914           6       98.29034  \n",
        "55            3       192.0476  \n",
        "545           6        20.8662  \n",
        "550          15        28.8769  \n",
        "851           7       65.78937  \n",
        "445          10       23.34186  \n",
        "354          17       43.96452  \n",
        "532           8       46.66092  \n",
        "21            5       53.39742  "
       ]
      }
     ],
     "prompt_number": 292
    },
    {
     "cell_type": "code",
     "collapsed": false,
     "input": [
      "print \"Total salary: $%d\" %(allStarTeam['salary'].sum())\n",
      "print \"Predicted average OPW: %.2f wins\" %(allStarTeam['OPW'].mean())\n",
      "print \"Predicted average OPWSalary ratio: %.2f wins\" %(allStarTeam['OPWSalaryRatio'].mean())"
     ],
     "language": "python",
     "metadata": {},
     "outputs": [
      {
       "output_type": "stream",
       "stream": "stdout",
       "text": [
        "Total salary: $19202499\n",
        "Predicted average OPW: 84.33 wins\n",
        "Predicted average OPWSalary ratio: 64.81 wins\n"
       ]
      }
     ],
     "prompt_number": 293
    },
    {
     "cell_type": "code",
     "collapsed": false,
     "input": [
      "#Convert columns to floats\n",
      "allStarTeam[['PPA1B', 'PPA2B', 'PPA3B', 'PPAHR', 'PPABB', 'OPW']] = allStarTeam[['PPA1B', 'PPA2B', 'PPA3B', 'PPAHR', 'PPABB', 'OPW']].astype(float)\n",
      "allStarTeam.describe()"
     ],
     "language": "python",
     "metadata": {},
     "outputs": [
      {
       "html": [
        "<div style=\"max-height:1000px;max-width:1500px;overflow:auto;\">\n",
        "<table border=\"1\" class=\"dataframe\">\n",
        "  <thead>\n",
        "    <tr style=\"text-align: right;\">\n",
        "      <th></th>\n",
        "      <th>PPA1B</th>\n",
        "      <th>PPA2B</th>\n",
        "      <th>PPA3B</th>\n",
        "      <th>PPAHR</th>\n",
        "      <th>PPABB</th>\n",
        "      <th>OPW</th>\n",
        "    </tr>\n",
        "  </thead>\n",
        "  <tbody>\n",
        "    <tr>\n",
        "      <th>count</th>\n",
        "      <td> 10.000000</td>\n",
        "      <td> 10.000000</td>\n",
        "      <td> 10.000000</td>\n",
        "      <td> 10.000000</td>\n",
        "      <td> 10.000000</td>\n",
        "      <td> 10.000000</td>\n",
        "    </tr>\n",
        "    <tr>\n",
        "      <th>mean</th>\n",
        "      <td>  0.001834</td>\n",
        "      <td>  0.003679</td>\n",
        "      <td> -0.000567</td>\n",
        "      <td> -0.000494</td>\n",
        "      <td>  0.003143</td>\n",
        "      <td> 84.329382</td>\n",
        "    </tr>\n",
        "    <tr>\n",
        "      <th>std</th>\n",
        "      <td>  0.020177</td>\n",
        "      <td>  0.007172</td>\n",
        "      <td>  0.002954</td>\n",
        "      <td>  0.011274</td>\n",
        "      <td>  0.024230</td>\n",
        "      <td>  9.260886</td>\n",
        "    </tr>\n",
        "    <tr>\n",
        "      <th>min</th>\n",
        "      <td> -0.039016</td>\n",
        "      <td> -0.010945</td>\n",
        "      <td> -0.004299</td>\n",
        "      <td> -0.019071</td>\n",
        "      <td> -0.026483</td>\n",
        "      <td> 69.416652</td>\n",
        "    </tr>\n",
        "    <tr>\n",
        "      <th>25%</th>\n",
        "      <td> -0.009188</td>\n",
        "      <td>  0.001498</td>\n",
        "      <td> -0.002675</td>\n",
        "      <td> -0.005307</td>\n",
        "      <td> -0.015292</td>\n",
        "      <td> 75.606808</td>\n",
        "    </tr>\n",
        "    <tr>\n",
        "      <th>50%</th>\n",
        "      <td>  0.002832</td>\n",
        "      <td>  0.003588</td>\n",
        "      <td> -0.000163</td>\n",
        "      <td>  0.001963</td>\n",
        "      <td>  0.001290</td>\n",
        "      <td> 87.675423</td>\n",
        "    </tr>\n",
        "    <tr>\n",
        "      <th>75%</th>\n",
        "      <td>  0.015656</td>\n",
        "      <td>  0.006496</td>\n",
        "      <td>  0.000539</td>\n",
        "      <td>  0.005096</td>\n",
        "      <td>  0.014037</td>\n",
        "      <td> 91.156650</td>\n",
        "    </tr>\n",
        "    <tr>\n",
        "      <th>max</th>\n",
        "      <td>  0.032799</td>\n",
        "      <td>  0.013500</td>\n",
        "      <td>  0.005537</td>\n",
        "      <td>  0.018112</td>\n",
        "      <td>  0.046596</td>\n",
        "      <td> 95.394589</td>\n",
        "    </tr>\n",
        "  </tbody>\n",
        "</table>\n",
        "</div>"
       ],
       "metadata": {},
       "output_type": "pyout",
       "prompt_number": 294,
       "text": [
        "           PPA1B      PPA2B      PPA3B      PPAHR      PPABB        OPW\n",
        "count  10.000000  10.000000  10.000000  10.000000  10.000000  10.000000\n",
        "mean    0.001834   0.003679  -0.000567  -0.000494   0.003143  84.329382\n",
        "std     0.020177   0.007172   0.002954   0.011274   0.024230   9.260886\n",
        "min    -0.039016  -0.010945  -0.004299  -0.019071  -0.026483  69.416652\n",
        "25%    -0.009188   0.001498  -0.002675  -0.005307  -0.015292  75.606808\n",
        "50%     0.002832   0.003588  -0.000163   0.001963   0.001290  87.675423\n",
        "75%     0.015656   0.006496   0.000539   0.005096   0.014037  91.156650\n",
        "max     0.032799   0.013500   0.005537   0.018112   0.046596  95.394589"
       ]
      }
     ],
     "prompt_number": 294
    },
    {
     "cell_type": "markdown",
     "metadata": {},
     "source": [
      "At first, just by choosing the players with the highest OPW/Salary ratio yielded a team with 75.6 wins but with only \\$17 million in salary. Thus, I optimized the process by choosing players with lower OPW/Salary ratio but with a higher ceiling OPW to bump the wins up. My final team has a win rate of 84.3 games and I spent $19.2 million to assemble this team."
     ]
    },
    {
     "cell_type": "markdown",
     "metadata": {},
     "source": [
      "###Run Monte Carlo Simulations###"
     ]
    },
    {
     "cell_type": "code",
     "collapsed": false,
     "input": [
      "from random import randint, seed\n",
      "seed(1234)\n",
      "columns = ['OPW_Mean', 'OPWSalaryRatio_Mean', 'Salary_Mean', 'Salary_Sum']\n",
      "simulationResults = pd.DataFrame(columns=columns)\n",
      "\n",
      "#Force simulationResults to be of type Float\n",
      "simulationResults.loc[0] = [0.0,0.0,0.0,0.0]\n",
      "\n",
      "simulation = 10000\n",
      "for i in xrange(simulation):\n",
      "    randomTeam = pd.DataFrame(columns=sortedActivePlayers.columns)\n",
      "    count = 0\n",
      "    for pos in positions:\n",
      "        playersByPos = findPlayersByPos(sortedActivePlayers, pos)\n",
      "        index = playersByPos.index\n",
      "        randomPlayerNum = index[randint(0,len(index)-1)]\n",
      "        randomTeam.loc[count] = sortedActivePlayers.loc[randomPlayerNum,:]\n",
      "        count += 1\n",
      "    randomTeam\n",
      "    simulationResults.loc[i] = [randomTeam.OPW.mean(),\n",
      "                                randomTeam.OPWSalaryRatio.mean(),\n",
      "                                randomTeam.salary.mean(),\n",
      "                                randomTeam.salary.sum()]\n"
     ],
     "language": "python",
     "metadata": {},
     "outputs": [],
     "prompt_number": 295
    },
    {
     "cell_type": "code",
     "collapsed": false,
     "input": [
      "simulationResults.head()"
     ],
     "language": "python",
     "metadata": {},
     "outputs": [
      {
       "html": [
        "<div style=\"max-height:1000px;max-width:1500px;overflow:auto;\">\n",
        "<table border=\"1\" class=\"dataframe\">\n",
        "  <thead>\n",
        "    <tr style=\"text-align: right;\">\n",
        "      <th></th>\n",
        "      <th>OPW_Mean</th>\n",
        "      <th>OPWSalaryRatio_Mean</th>\n",
        "      <th>Salary_Mean</th>\n",
        "      <th>Salary_Sum</th>\n",
        "    </tr>\n",
        "  </thead>\n",
        "  <tbody>\n",
        "    <tr>\n",
        "      <th>0</th>\n",
        "      <td> 87.484453</td>\n",
        "      <td> 27.879170</td>\n",
        "      <td> 5054583.3</td>\n",
        "      <td> 50545833</td>\n",
        "    </tr>\n",
        "    <tr>\n",
        "      <th>1</th>\n",
        "      <td> 83.628450</td>\n",
        "      <td> 19.923549</td>\n",
        "      <td> 6598626.6</td>\n",
        "      <td> 65986266</td>\n",
        "    </tr>\n",
        "    <tr>\n",
        "      <th>2</th>\n",
        "      <td> 82.168311</td>\n",
        "      <td> 27.576098</td>\n",
        "      <td> 4240791.6</td>\n",
        "      <td> 42407916</td>\n",
        "    </tr>\n",
        "    <tr>\n",
        "      <th>3</th>\n",
        "      <td> 83.867001</td>\n",
        "      <td> 16.382953</td>\n",
        "      <td> 6074499.9</td>\n",
        "      <td> 60744999</td>\n",
        "    </tr>\n",
        "    <tr>\n",
        "      <th>4</th>\n",
        "      <td> 81.726603</td>\n",
        "      <td> 24.798600</td>\n",
        "      <td> 5473333.4</td>\n",
        "      <td> 54733334</td>\n",
        "    </tr>\n",
        "  </tbody>\n",
        "</table>\n",
        "</div>"
       ],
       "metadata": {},
       "output_type": "pyout",
       "prompt_number": 296,
       "text": [
        "    OPW_Mean  OPWSalaryRatio_Mean  Salary_Mean  Salary_Sum\n",
        "0  87.484453            27.879170    5054583.3    50545833\n",
        "1  83.628450            19.923549    6598626.6    65986266\n",
        "2  82.168311            27.576098    4240791.6    42407916\n",
        "3  83.867001            16.382953    6074499.9    60744999\n",
        "4  81.726603            24.798600    5473333.4    54733334"
       ]
      }
     ],
     "prompt_number": 296
    },
    {
     "cell_type": "code",
     "collapsed": false,
     "input": [
      "simulationResults.describe()"
     ],
     "language": "python",
     "metadata": {},
     "outputs": [
      {
       "html": [
        "<div style=\"max-height:1000px;max-width:1500px;overflow:auto;\">\n",
        "<table border=\"1\" class=\"dataframe\">\n",
        "  <thead>\n",
        "    <tr style=\"text-align: right;\">\n",
        "      <th></th>\n",
        "      <th>OPW_Mean</th>\n",
        "      <th>OPWSalaryRatio_Mean</th>\n",
        "      <th>Salary_Mean</th>\n",
        "      <th>Salary_Sum</th>\n",
        "    </tr>\n",
        "  </thead>\n",
        "  <tbody>\n",
        "    <tr>\n",
        "      <th>count</th>\n",
        "      <td> 10000.000000</td>\n",
        "      <td> 10000.000000</td>\n",
        "      <td>   10000.000000</td>\n",
        "      <td>    10000.000000</td>\n",
        "    </tr>\n",
        "    <tr>\n",
        "      <th>mean</th>\n",
        "      <td>    82.678460</td>\n",
        "      <td>    26.528941</td>\n",
        "      <td> 4995385.624300</td>\n",
        "      <td> 49953856.243000</td>\n",
        "    </tr>\n",
        "    <tr>\n",
        "      <th>std</th>\n",
        "      <td>     4.493555</td>\n",
        "      <td>     6.984620</td>\n",
        "      <td>  991486.147121</td>\n",
        "      <td>  9914861.471214</td>\n",
        "    </tr>\n",
        "    <tr>\n",
        "      <th>min</th>\n",
        "      <td>    68.556633</td>\n",
        "      <td>    11.418444</td>\n",
        "      <td> 2262708.300000</td>\n",
        "      <td> 22627083.000000</td>\n",
        "    </tr>\n",
        "    <tr>\n",
        "      <th>25%</th>\n",
        "      <td>    79.599274</td>\n",
        "      <td>    21.429437</td>\n",
        "      <td> 4307656.225000</td>\n",
        "      <td> 43076562.250000</td>\n",
        "    </tr>\n",
        "    <tr>\n",
        "      <th>50%</th>\n",
        "      <td>    82.596277</td>\n",
        "      <td>    25.448878</td>\n",
        "      <td> 4915625.000000</td>\n",
        "      <td> 49156250.000000</td>\n",
        "    </tr>\n",
        "    <tr>\n",
        "      <th>75%</th>\n",
        "      <td>    85.632396</td>\n",
        "      <td>    30.297733</td>\n",
        "      <td> 5617767.800000</td>\n",
        "      <td> 56177678.000000</td>\n",
        "    </tr>\n",
        "    <tr>\n",
        "      <th>max</th>\n",
        "      <td>   102.438977</td>\n",
        "      <td>    62.233798</td>\n",
        "      <td> 9642916.700000</td>\n",
        "      <td> 96429167.000000</td>\n",
        "    </tr>\n",
        "  </tbody>\n",
        "</table>\n",
        "</div>"
       ],
       "metadata": {},
       "output_type": "pyout",
       "prompt_number": 297,
       "text": [
        "           OPW_Mean  OPWSalaryRatio_Mean     Salary_Mean       Salary_Sum\n",
        "count  10000.000000         10000.000000    10000.000000     10000.000000\n",
        "mean      82.678460            26.528941  4995385.624300  49953856.243000\n",
        "std        4.493555             6.984620   991486.147121   9914861.471214\n",
        "min       68.556633            11.418444  2262708.300000  22627083.000000\n",
        "25%       79.599274            21.429437  4307656.225000  43076562.250000\n",
        "50%       82.596277            25.448878  4915625.000000  49156250.000000\n",
        "75%       85.632396            30.297733  5617767.800000  56177678.000000\n",
        "max      102.438977            62.233798  9642916.700000  96429167.000000"
       ]
      }
     ],
     "prompt_number": 297
    },
    {
     "cell_type": "code",
     "collapsed": false,
     "input": [
      "OPW = [x for x in simulationResults.OPW_Mean]\n",
      "OPWSalary = [x for x in simulationResults.OPWSalaryRatio_Mean]\n",
      "TotalSalary = [x for x in simulationResults.Salary_Sum]"
     ],
     "language": "python",
     "metadata": {},
     "outputs": [],
     "prompt_number": 298
    },
    {
     "cell_type": "code",
     "collapsed": false,
     "input": [
      "plt.hist(OPW)\n",
      "plt.xlabel('Average OPW (Wins)', fontweight='bold')\n",
      "plt.ylabel('Frequency', fontweight='bold')\n",
      "plt.title('Distribution of Average OPW simulated from 10,000 Monte Carlo Trials', fontweight='bold')\n",
      "plt.axvline(np.mean(OPW), color='black', alpha=0.5, lw=3)\n",
      "plt.axvline(allStarTeam.OPW.mean(), color='red', alpha=0.5, lw=3)\n",
      "plt.show()\n"
     ],
     "language": "python",
     "metadata": {},
     "outputs": [
      {
       "metadata": {},
       "output_type": "display_data",
       "png": "[encoded data removed]",
       "text": [
        "<matplotlib.figure.Figure at 0x25609cf8>"
       ]
      }
     ],
     "prompt_number": 299
    },
    {
     "cell_type": "code",
     "collapsed": false,
     "input": [
      "plt.hist(OPWSalary)\n",
      "plt.xlabel('Average OPW Salary Ratio (Wins/$ MM)', fontweight='bold')\n",
      "plt.ylabel('Frequency', fontweight='bold')\n",
      "plt.title('Distribution of Avg OPW Salary Ratio simulated from 10,000 Monte Carlo Trials', fontweight='bold')\n",
      "plt.axvline(np.mean(OPWSalary), color='black', alpha=0.5, lw=3)\n",
      "plt.axvline(allStarTeam.OPWSalaryRatio.mean(), color='red', alpha=0.5, lw=3)\n",
      "plt.show()"
     ],
     "language": "python",
     "metadata": {},
     "outputs": [
      {
       "metadata": {},
       "output_type": "display_data",
       "png": "[encoded data removed]",
       "text": [
        "<matplotlib.figure.Figure at 0x21daaac8>"
       ]
      }
     ],
     "prompt_number": 300
    },
    {
     "cell_type": "code",
     "collapsed": false,
     "input": [
      "plt.scatter(OPWSalary, OPW, s = 30, alpha=0.8)\n",
      "plt.scatter(allStarTeam.OPWSalaryRatio.mean(), allStarTeam.OPW.mean(), s = 30, c='r')\n",
      "plt.xlabel('Average OPW Salary Ratio (Wins/$ MM)', fontweight='bold')\n",
      "plt.ylabel('Average OPW (Wins)', fontweight='bold')\n",
      "plt.title('Avg OPW vs. Avg OPW Salary Ratio', fontweight='bold')\n",
      "plt.show()"
     ],
     "language": "python",
     "metadata": {},
     "outputs": [
      {
       "metadata": {},
       "output_type": "display_data",
       "png": "[encoded data removed]",
       "text": [
        "<matplotlib.figure.Figure at 0x21dd3cc0>"
       ]
      }
     ],
     "prompt_number": 301
    },
    {
     "cell_type": "code",
     "collapsed": false,
     "input": [
      "plt.scatter(TotalSalary, OPW, s = 30, alpha=0.8)\n",
      "plt.scatter(allStarTeam.salary.sum(), allStarTeam.OPW.mean(), s = 30, c='r')\n",
      "plt.xlabel('Total Team Salary ($)', fontweight='bold')\n",
      "plt.ylabel('Average OPW (Wins)', fontweight='bold')\n",
      "plt.title('Avg OPW vs. Total Team Salary', fontweight='bold')\n",
      "plt.show()"
     ],
     "language": "python",
     "metadata": {},
     "outputs": [
      {
       "metadata": {},
       "output_type": "display_data",
       "png": "[encoded data removed]",
       "text": [
        "<matplotlib.figure.Figure at 0x21dddef0>"
       ]
      }
     ],
     "prompt_number": 302
    },
    {
     "cell_type": "code",
     "collapsed": false,
     "input": [
      "print \"Teams with higher OPW than All Star Team: %d teams.\" % (len([x for x in OPW if x >= allStarTeam.OPW.mean()]))"
     ],
     "language": "python",
     "metadata": {},
     "outputs": [
      {
       "output_type": "stream",
       "stream": "stdout",
       "text": [
        "Teams with higher OPW than All Star Team: 3501 teams.\n"
       ]
      }
     ],
     "prompt_number": 303
    },
    {
     "cell_type": "code",
     "collapsed": false,
     "input": [
      "print \"Teams with higher OPW Salary Ratio than All Star Team: %d teams.\" % len([x for x in OPWSalary if x >= allStarTeam.OPWSalaryRatio.mean()])"
     ],
     "language": "python",
     "metadata": {},
     "outputs": [
      {
       "output_type": "stream",
       "stream": "stdout",
       "text": [
        "Teams with higher OPW Salary Ratio than All Star Team: 0 teams.\n"
       ]
      }
     ],
     "prompt_number": 304
    },
    {
     "cell_type": "markdown",
     "metadata": {},
     "source": [
      "**Team with the highest OPW**"
     ]
    },
    {
     "cell_type": "code",
     "collapsed": false,
     "input": [
      "simulationResults[simulationResults.OPW_Mean.isin([np.max(OPW)])]"
     ],
     "language": "python",
     "metadata": {},
     "outputs": [
      {
       "html": [
        "<div style=\"max-height:1000px;max-width:1500px;overflow:auto;\">\n",
        "<table border=\"1\" class=\"dataframe\">\n",
        "  <thead>\n",
        "    <tr style=\"text-align: right;\">\n",
        "      <th></th>\n",
        "      <th>OPW_Mean</th>\n",
        "      <th>OPWSalaryRatio_Mean</th>\n",
        "      <th>Salary_Mean</th>\n",
        "      <th>Salary_Sum</th>\n",
        "    </tr>\n",
        "  </thead>\n",
        "  <tbody>\n",
        "    <tr>\n",
        "      <th>641</th>\n",
        "      <td> 102.438977</td>\n",
        "      <td> 25.628958</td>\n",
        "      <td> 6304166.7</td>\n",
        "      <td> 63041667</td>\n",
        "    </tr>\n",
        "  </tbody>\n",
        "</table>\n",
        "</div>"
       ],
       "metadata": {},
       "output_type": "pyout",
       "prompt_number": 305,
       "text": [
        "       OPW_Mean  OPWSalaryRatio_Mean  Salary_Mean  Salary_Sum\n",
        "641  102.438977            25.628958    6304166.7    63041667"
       ]
      }
     ],
     "prompt_number": 305
    }
   ],
   "metadata": {}
  }
 ]
}